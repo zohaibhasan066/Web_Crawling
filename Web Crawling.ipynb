{
 "cells": [
  {
   "cell_type": "code",
   "execution_count": null,
   "id": "c3042877",
   "metadata": {},
   "outputs": [],
   "source": [
    "import requests\n",
    "from bs4 import BeautifulSoup\n",
    "import os\n"
   ]
  },
  {
   "cell_type": "code",
   "execution_count": 19,
   "id": "83d39a54",
   "metadata": {
    "scrolled": true
   },
   "outputs": [],
   "source": [
    "# set the base URL and the search term\n",
    "search_term = 'clothes'#spanner,hammer,screwdriver\n",
    "directory = \"E:/internships/Enord/photos/clothes\"\n",
    "#url=f\"https://www.shutterstock.com/search/{search_term}?page=800\"\n",
    "#url= f\"https://www.gettyimages.in/search/2/image?family=creative&phrase={search_term}\"\n",
    "#url= f\"https://www.shutterstock.com/search/{search_term}\"\n",
    "#url= f\"https://www.istockphoto.com/search/2/image?phrase={search_term}&page=20\"\n",
    "#url=f\"https://www.bigstockphoto.com/search/{search_term}/\"\n",
    "#url=f\"https://www.bing.com/images/search?q={search_term}&qs=n&form=QBIR&sp=-1&lq=0&pq=plyerphotos&sc=10-11&cvid=4AB7FEAC7DF9433799D38AAD9E3CD57C&ghsh=0&ghacc=0&first=1\"\n",
    "#url=f\"https://www.google.com/search?q={search_term}&source=lnms&tbm=isch&sa=X&ved=2ahUKEwjR87_vnob_AhXXm1YBHb01CrQQ_AUoAXoECAIQAw&biw=1482&bih=746&dpr=1.25\""
   ]
  },
  {
   "cell_type": "code",
   "execution_count": 20,
   "id": "c8eca62f",
   "metadata": {
    "scrolled": true
   },
   "outputs": [],
   "source": [
    "# Creating  the directory if it doesn't already exist.\n",
    "if not os.path.exists(directory):\n",
    "    os.makedirs(directory)"
   ]
  },
  {
   "cell_type": "code",
   "execution_count": 21,
   "id": "9ee9bfd4",
   "metadata": {},
   "outputs": [],
   "source": [
    "\n",
    "#just to get acess on sites\n",
    "headers = {\n",
    "    'User-Agent': 'Mozilla/5.0 (Windows NT 10.0; Win64; x64) AppleWebKit/537.36 (KHTML, like Gecko)Chrome/58.0.3029.110 Safari/537.36'\n",
    "}\n"
   ]
  },
  {
   "cell_type": "code",
   "execution_count": 22,
   "id": "e3a9d30a",
   "metadata": {},
   "outputs": [],
   "source": [
    "# send a GET request to the URL\n",
    "response = requests.get(url, headers=headers)"
   ]
  },
  {
   "cell_type": "code",
   "execution_count": 23,
   "id": "b337bfcf",
   "metadata": {},
   "outputs": [
    {
     "name": "stdout",
     "output_type": "stream",
     "text": [
      "22\n"
     ]
    }
   ],
   "source": [
    "# parse the HTML content using BeautifulSoup\n",
    "soup = BeautifulSoup(response.content, 'html.parser')\n",
    "images = soup.find_all(\"img\")\n",
    "print(len(images))"
   ]
  },
  {
   "cell_type": "code",
   "execution_count": 24,
   "id": "e7bf70ba",
   "metadata": {},
   "outputs": [
    {
     "name": "stdout",
     "output_type": "stream",
     "text": [
      "Downloaded: E:/internships/Enord/photos/clothes\\clothes_3.jpg\n",
      "Downloaded: E:/internships/Enord/photos/clothes\\clothes_4.jpg\n",
      "Downloaded: E:/internships/Enord/photos/clothes\\clothes_5.jpg\n",
      "Downloaded: E:/internships/Enord/photos/clothes\\clothes_6.jpg\n",
      "Downloaded: E:/internships/Enord/photos/clothes\\clothes_7.jpg\n",
      "Downloaded: E:/internships/Enord/photos/clothes\\clothes_8.jpg\n",
      "Downloaded: E:/internships/Enord/photos/clothes\\clothes_9.jpg\n",
      "Downloaded: E:/internships/Enord/photos/clothes\\clothes_10.jpg\n",
      "Downloaded: E:/internships/Enord/photos/clothes\\clothes_11.jpg\n",
      "Downloaded: E:/internships/Enord/photos/clothes\\clothes_12.jpg\n",
      "Downloaded: E:/internships/Enord/photos/clothes\\clothes_13.jpg\n",
      "Downloaded: E:/internships/Enord/photos/clothes\\clothes_14.jpg\n",
      "Downloaded: E:/internships/Enord/photos/clothes\\clothes_15.jpg\n",
      "Downloaded: E:/internships/Enord/photos/clothes\\clothes_16.jpg\n",
      "Downloaded: E:/internships/Enord/photos/clothes\\clothes_17.jpg\n",
      "Downloaded: E:/internships/Enord/photos/clothes\\clothes_18.jpg\n",
      "Downloaded: E:/internships/Enord/photos/clothes\\clothes_19.jpg\n",
      "Downloaded: E:/internships/Enord/photos/clothes\\clothes_20.jpg\n",
      "Downloaded: E:/internships/Enord/photos/clothes\\clothes_21.jpg\n",
      "Downloaded: E:/internships/Enord/photos/clothes\\clothes_22.jpg\n"
     ]
    }
   ],
   "source": [
    "# download data from each link that contains the search term\n",
    "for i, link in enumerate(images):\n",
    "    href = link.get(\"src\")\n",
    "    if not href or not href.startswith(\"http\"):\n",
    "        continue\n",
    "    filename = os.path.join(directory, f\"{search_term}_{i+1}.jpg\")\n",
    "    #response = requests.get(src)\n",
    "    file_path = os.path.join(directory, filename)\n",
    "    with open(filename, 'wb') as f:\n",
    "        f.write(requests.get(href).content)\n",
    "    print(f\"Downloaded: {filename}\")\n"
   ]
  },
  {
   "cell_type": "code",
   "execution_count": null,
   "id": "2029a0b7",
   "metadata": {},
   "outputs": [],
   "source": []
  }
 ],
 "metadata": {
  "kernelspec": {
   "display_name": "Python 3 (ipykernel)",
   "language": "python",
   "name": "python3"
  },
  "language_info": {
   "codemirror_mode": {
    "name": "ipython",
    "version": 3
   },
   "file_extension": ".py",
   "mimetype": "text/x-python",
   "name": "python",
   "nbconvert_exporter": "python",
   "pygments_lexer": "ipython3",
   "version": "3.9.13"
  }
 },
 "nbformat": 4,
 "nbformat_minor": 5
}
